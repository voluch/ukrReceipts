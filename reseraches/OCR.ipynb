{
 "cells": [
  {
   "cell_type": "code",
   "execution_count": null,
   "metadata": {
    "collapsed": true
   },
   "outputs": [],
   "source": [
    "import numpy as np\n",
    "from PIL import Image, ImageDraw, ImageFont\n",
    "import pytesseract\n",
    "image = Image.open('/home/vdubyna/PycharmProjects/pdf-data-extraction/photo_2023-02-23_20-36-25.jpg')\n",
    "width, height = image.size\n",
    "w_scale = 1000 / width\n",
    "h_scale = 1000 / height\n",
    "\n",
    "ocr_df = pytesseract.image_to_data(image, lang='ukr', output_type='data.frame')\n",
    "ocr_df = ocr_df.dropna() \\\n",
    "    .assign(left_scaled=ocr_df.left * w_scale,\n",
    "            width_scaled=ocr_df.width * w_scale,\n",
    "            top_scaled=ocr_df.top * h_scale,\n",
    "            height_scaled=ocr_df.height * h_scale,\n",
    "            right_scaled=lambda x: x.left_scaled + x.width_scaled,\n",
    "            bottom_scaled=lambda x: x.top_scaled + x.height_scaled)\n",
    "\n",
    "float_cols = ocr_df.select_dtypes('float').columns\n",
    "ocr_df[float_cols] = ocr_df[float_cols].round(0).astype(int)\n",
    "ocr_df = ocr_df.replace(r'^\\s*$', np.nan, regex=True)\n",
    "ocr_df = ocr_df.dropna().reset_index(drop=True)\n",
    "ocr_df[:20]\n"
   ]
  },
  {
   "cell_type": "code",
   "execution_count": null,
   "outputs": [],
   "source": [
    "draw = ImageDraw.Draw(image)\n",
    "\n",
    "for idx, row in ocr_df.iterrows():\n",
    "    x, y, w, h = row['left'], row['top'], row['width'], row['height']  # the row comes in (left, top, width, height) format\n",
    "    draw.rectangle([x, y, x + w, y + h], width=2)\n",
    "\n",
    "image"
   ],
   "metadata": {
    "collapsed": false
   }
  },
  {
   "cell_type": "code",
   "execution_count": null,
   "outputs": [],
   "source": [
    "import cv2\n",
    "import pytesseract\n",
    "import numpy as np\n",
    "\n",
    "img = cv2.imread('/home/vdubyna/PycharmProjects/pdf-data-extraction/photo_2023-02-23_20-36-25.jpg')\n",
    "\n",
    "width, height = image.size\n",
    "w_scale = 1000 / width\n",
    "h_scale = 1000 / height\n",
    "\n",
    "def convert_grayscale(img):\n",
    "    img = cv2.cvtColor(img, cv2.COLOR_BGR2GRAY)\n",
    "    return img\n",
    "\n",
    "def blur(img, param):\n",
    "    return cv2.medianBlur(img, param)\n",
    "\n",
    "def treshold(img):\n",
    "    return cv2.threshold(img, 0, 255, cv2.THRESH_BINARY + cv2.THRESH_OTSU)[1]\n",
    "\n",
    "img = convert_grayscale(img)\n",
    "img = treshold(img)\n",
    "\n",
    "ocr_df = pytesseract.image_to_data(image, lang='ukr', output_type='data.frame')\n",
    "ocr_df = ocr_df.dropna() \\\n",
    "    .assign(left_scaled=ocr_df.left * w_scale,\n",
    "            width_scaled=ocr_df.width * w_scale,\n",
    "            top_scaled=ocr_df.top * h_scale,\n",
    "            height_scaled=ocr_df.height * h_scale,\n",
    "            right_scaled=lambda x: x.left_scaled + x.width_scaled,\n",
    "            bottom_scaled=lambda x: x.top_scaled + x.height_scaled)\n",
    "\n",
    "float_cols = ocr_df.select_dtypes('float').columns\n",
    "ocr_df[float_cols] = ocr_df[float_cols].round(0).astype(int)\n",
    "ocr_df = ocr_df.replace(r'^\\s*$', np.nan, regex=True)\n",
    "ocr_df = ocr_df.dropna().reset_index(drop=True)\n",
    "ocr_df"
   ],
   "metadata": {
    "collapsed": false
   }
  },
  {
   "cell_type": "code",
   "execution_count": null,
   "outputs": [],
   "source": [
    "draw = ImageDraw.Draw(image)\n",
    "\n",
    "for idx, row in ocr_df.iterrows():\n",
    "    x, y, w, h = row['left'], row['top'], row['width'], row['height']  # the row comes in (left, top, width, height) format\n",
    "    draw.rectangle([x, y, x + w, y + h], width=2)\n",
    "\n",
    "image"
   ],
   "metadata": {
    "collapsed": false
   }
  },
  {
   "cell_type": "code",
   "execution_count": null,
   "outputs": [],
   "source": [
    "%timeit\n",
    "import easyocr\n",
    "\n",
    "# specify languages and other configs\n",
    "reader = easyocr.Reader(['en', 'uk'])\n",
    "\n",
    "result = reader.readtext('/home/vdubyna/PycharmProjects/pdf-data-extraction/photo_2023-02-23_20-36-25.jpg', allowlist='АБВГДЕЄЇІЖЗИЙКЛМНОПРСТУФХЦЧШЩЬЮЯ-#')\n",
    "result"
   ],
   "metadata": {
    "collapsed": false
   }
  },
  {
   "cell_type": "code",
   "execution_count": null,
   "outputs": [],
   "source": [
    "from PIL import Image, ImageDraw, ImageFont\n",
    "image = Image.open('/home/vdubyna/PycharmProjects/pdf-data-extraction/photo_2023-02-23_20-36-25.jpg')\n",
    "\n",
    "draw = ImageDraw.Draw(image)\n",
    "for res in result:\n",
    "    top_left = tuple(res[0][0]) # top left coordinates as tuple\n",
    "    bottom_right = tuple(res[0][2]) # bottom right coordinates as tuple\n",
    "    # draw rectangle on image\n",
    "    draw.rectangle([top_left[0], top_left[1], bottom_right[0], bottom_right[1]], width=2)\n",
    "\n",
    "image"
   ],
   "metadata": {
    "collapsed": false
   }
  }
 ],
 "metadata": {
  "kernelspec": {
   "display_name": "Python 3",
   "language": "python",
   "name": "python3"
  },
  "language_info": {
   "codemirror_mode": {
    "name": "ipython",
    "version": 2
   },
   "file_extension": ".py",
   "mimetype": "text/x-python",
   "name": "python",
   "nbconvert_exporter": "python",
   "pygments_lexer": "ipython2",
   "version": "2.7.6"
  }
 },
 "nbformat": 4,
 "nbformat_minor": 0
}
